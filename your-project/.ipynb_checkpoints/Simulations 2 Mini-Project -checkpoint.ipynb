{
 "cells": [
  {
   "cell_type": "code",
   "execution_count": 1,
   "metadata": {},
   "outputs": [],
   "source": [
    "#Message Encryption & Decryption\n",
    "\n",
    "#ask if user wants to decrypt or encrypt\n",
    "#get messages (cleartext or encrypted)\n",
    "#apply decryption or encryption as appropriate\n",
    "#print resulting message\n",
    "\n",
    "#The encryption can be represented using modular arithmetic by first transforming the letters into numbers, \n",
    "    #according to the scheme, A = 0, B = 1,…, Z = 25."
   ]
  },
  {
   "cell_type": "code",
   "execution_count": 2,
   "metadata": {},
   "outputs": [],
   "source": [
    "options = [\"encrypt\", \"decrypt\"]\n",
    "\n",
    "def ask_user():\n",
    "    #This function asks if the user wants to encrypt or decrypt\n",
    "    while True:\n",
    "        decision = input(\"Do you want to encrypt or decrypt? \")\n",
    "        if decision in options:\n",
    "            return (decision)\n",
    "        else:\n",
    "            print (\"Invalid choice\")"
   ]
  },
  {
   "cell_type": "code",
   "execution_count": 3,
   "metadata": {},
   "outputs": [],
   "source": [
    "play_again = [\"yes\", \"no\"]\n",
    "\n",
    "def ask_play_again():\n",
    "    #This function asks if the user wants to play again\n",
    "    while True:\n",
    "        decision = input(\"Do you want to play again? \")\n",
    "        if decision in play_again:\n",
    "            return (decision)\n",
    "        else:\n",
    "            print (\"Invalid choice\")"
   ]
  },
  {
   "cell_type": "code",
   "execution_count": 4,
   "metadata": {},
   "outputs": [],
   "source": [
    "def get_message(option):\n",
    "    #This function asks what is the message that the user wants to encrypt or decrypt\n",
    "           \n",
    "    if option == \"encrypt\":\n",
    "        text = input (\"Enter message to encrypt: \")\n",
    "    else:\n",
    "        text = input (\"Enter message to decrypt: \")\n",
    "    return (text)"
   ]
  },
  {
   "cell_type": "code",
   "execution_count": 5,
   "metadata": {},
   "outputs": [],
   "source": [
    "def ask_shift_number():\n",
    "    #This function asks how many characters you want to shift\n",
    "           \n",
    "    while True:\n",
    "        s = int(input(\"Enter shift number: \"))\n",
    "        if s >=0:\n",
    "            return (s)\n",
    "        else:\n",
    "            print (\"Invalid choice\")\n"
   ]
  },
  {
   "cell_type": "code",
   "execution_count": 6,
   "metadata": {},
   "outputs": [],
   "source": [
    "def encrypt(text, shift):\n",
    "    #This function encrypts the message using the ASCII printable characters\n",
    "    \n",
    "    cipher = \"\"\n",
    "    for char in text: \n",
    "        if char == \" \":\n",
    "            cipher += char\n",
    "        elif (ord(char) >= 33 and ord(char) <= 126):\n",
    "            cipher += chr((ord(char) + shift - 33) + 33) \n",
    "        else:\n",
    "            cipher += \" \"\n",
    "        \n",
    "        #elif (ord(char) >= 65 and ord(char) <= 90):\n",
    "            #cipher += chr((ord(char) + shift - 65) % 26 + 65) \n",
    "        #elif (ord(char) >= 97 and ord(char) <= 122):\n",
    "            #cipher += chr((ord(char) + shift - 97) % 26 + 97) \n",
    "        #elif (ord(char) >= 33 and ord(char) <= 64):\n",
    "            #cipher += chr((ord(char) + shift - 33) % 32 + 33) \n",
    "        #elif (ord(char) >= 91 and ord(char) <= 96):\n",
    "            #cipher += chr((ord(char) + shift - 91) % 6 + 91)  \n",
    "        #elif (ord(char) >= 123 and ord(char) <= 126):\n",
    "            #cipher += chr((ord(char) + shift - 123) % 4 + 123) \n",
    "        #else:\n",
    "            #cipher += \" \"\n",
    "    \n",
    "    return cipher\n"
   ]
  },
  {
   "cell_type": "code",
   "execution_count": 7,
   "metadata": {},
   "outputs": [],
   "source": [
    "def decrypt(text, shift):\n",
    "    #This function decrypts the message using the ASCII printable characters\n",
    "    \n",
    "    cipher = \"\"\n",
    "    for char in text: \n",
    "        if char == \" \":\n",
    "            cipher += char\n",
    "        elif (ord(char) >= 33 and ord(char) <= 126):\n",
    "            cipher += chr((ord(char) - shift - 33) + 33) \n",
    "        else:\n",
    "            cipher += \" \"\n",
    "        \n",
    "        #elif (ord(char) >= 65 and ord(char) <= 90):\n",
    "            #cipher += chr((ord(char) - shift - 65) % 26 + 65) # %26 gives me the relative position between 1 and 26\n",
    "        #elif (ord(char) >= 97 and ord(char) <= 122):\n",
    "            #cipher += chr((ord(char) - shift - 97) % 26 + 97) # %26 gives me the relative position between 1 and 26\n",
    "        #elif (ord(char) >= 33 and ord(char) <= 64):\n",
    "            #cipher += chr((ord(char) - shift - 33) % 32 + 33) # special characters\n",
    "        #elif (ord(char) >= 91 and ord(char) <= 96):\n",
    "            #cipher += chr((ord(char) - shift - 91) % 6 + 91)  # special characters\n",
    "        #elif (ord(char) >= 123 and ord(char) <= 126):\n",
    "            #cipher += chr((ord(char) - shift - 123) % 4 + 123) # special characters\n",
    "        \n",
    "    \n",
    "    return cipher\n",
    "   "
   ]
  },
  {
   "cell_type": "code",
   "execution_count": 8,
   "metadata": {},
   "outputs": [
    {
     "name": "stdout",
     "output_type": "stream",
     "text": [
      "Do you want to encrypt or decrypt? encrypt\n",
      "Enter message to encrypt: hello\n",
      "Enter shift number: 1\n",
      "Message after encryption:  ifmmp\n",
      "Do you want to play again? yes\n",
      "Do you want to encrypt or decrypt? decrypt\n",
      "Enter message to decrypt: ifmmp\n",
      "Enter shift number: 1\n",
      "Message after decryption:  hello\n",
      "Do you want to play again? no\n",
      "Bye bye :)\n"
     ]
    }
   ],
   "source": [
    "# Main program\n",
    "\n",
    "while True:\n",
    "    option = ask_user()\n",
    "    text = get_message(option)\n",
    "    shift = ask_shift_number()\n",
    "\n",
    "    if option == \"encrypt\":\n",
    "        encrypted_text = encrypt(text, shift)\n",
    "        print(\"Message after encryption: \", encrypted_text)\n",
    "    else:\n",
    "        clear_text = decrypt(text, shift)\n",
    "        print(\"Message after decryption: \", clear_text)\n",
    "    \n",
    "    if ask_play_again() == \"no\":\n",
    "        print(\"Bye bye :)\")\n",
    "        break\n"
   ]
  },
  {
   "cell_type": "code",
   "execution_count": null,
   "metadata": {},
   "outputs": [],
   "source": []
  },
  {
   "cell_type": "code",
   "execution_count": 13,
   "metadata": {},
   "outputs": [
    {
     "name": "stdout",
     "output_type": "stream",
     "text": [
      "F\n"
     ]
    }
   ],
   "source": [
    "print(chr((ord(\"B\") + 4 - 33) + 33))"
   ]
  },
  {
   "cell_type": "code",
   "execution_count": 48,
   "metadata": {},
   "outputs": [
    {
     "name": "stdout",
     "output_type": "stream",
     "text": [
      "The ASCII value of A is 65\n",
      "The ASCII value of a is 97\n",
      "A\n",
      "65\n"
     ]
    }
   ],
   "source": [
    "value_1 = \"A\"\n",
    "value_2 = \"a\"\n",
    "\n",
    "values = [value_1, value_2]\n",
    "\n",
    "for value in values:\n",
    "    print(\"The ASCII value of \" + value + \" is\", ord(value))\n",
    "\n",
    "print (chr(65)) # The chr() method returns a string representing a character whose Unicode code point is an integer\n",
    "print (ord(\"A\")) # Given a string of length one, return an integer representing the Unicode code point of the character"
   ]
  },
  {
   "cell_type": "code",
   "execution_count": 89,
   "metadata": {},
   "outputs": [
    {
     "name": "stdout",
     "output_type": "stream",
     "text": [
      "M\n",
      "Here 2:  N\n",
      "y\n",
      "Here 3:  Nz\n",
      " \n",
      "Here 1:  Nz \n",
      "n\n",
      "Here 3:  Nz o\n",
      "a\n",
      "Here 3:  Nz ob\n",
      "m\n",
      "Here 3:  Nz obn\n",
      "e\n",
      "Here 3:  Nz obnf\n",
      " \n",
      "Here 1:  Nz obnf \n",
      "i\n",
      "Here 3:  Nz obnf j\n",
      "s\n",
      "Here 3:  Nz obnf jt\n",
      " \n",
      "Here 1:  Nz obnf jt \n",
      "M\n",
      "Here 2:  Nz obnf jt N\n",
      "a\n",
      "Here 3:  Nz obnf jt Nb\n",
      "f\n",
      "Here 3:  Nz obnf jt Nbg\n",
      "a\n",
      "Here 3:  Nz obnf jt Nbgb\n",
      "l\n",
      "Here 3:  Nz obnf jt Nbgbm\n",
      "d\n",
      "Here 3:  Nz obnf jt Nbgbme\n",
      "a\n",
      "Here 3:  Nz obnf jt Nbgbmeb\n",
      "Nz obnf jt Nbgbmeb\n"
     ]
    }
   ],
   "source": [
    "text = \"My name is Mafalda\"\n",
    "\n",
    "cipher = \"\"\n",
    "for char in text:\n",
    "    print(char)\n",
    "    if char == \" \":\n",
    "        cipher += char\n",
    "        print (\"Here 1: \", cipher)\n",
    "    elif char.isupper():\n",
    "        cipher += chr((ord(char) + 1 - 65) % 26 + 65)\n",
    "        print (\"Here 2: \", cipher)\n",
    "    else:\n",
    "        cipher += chr((ord(char) + 1 - 97) % 26 + 97)\n",
    "        print (\"Here 3: \", cipher)\n",
    "print(cipher)"
   ]
  },
  {
   "cell_type": "code",
   "execution_count": 8,
   "metadata": {},
   "outputs": [],
   "source": [
    "options = [\"encrypt\", \"decrypt\"]\n",
    "\n",
    "def ask_user2():\n",
    "    \"This function asks if the user wants to encrypt or decrypt\"\n",
    "    decision = input (\"Choose if you want to encrypt or decrypt: \")\n",
    "    if decision in options:\n",
    "        return (decision)\n",
    "    else: \n",
    "        print (\"Invalid choice\")\n"
   ]
  },
  {
   "cell_type": "code",
   "execution_count": 26,
   "metadata": {},
   "outputs": [
    {
     "data": {
      "text/plain": [
       "True"
      ]
     },
     "execution_count": 26,
     "metadata": {},
     "output_type": "execute_result"
    }
   ],
   "source": [
    "from cryptography.fernet import Fernet\n",
    "message = \"my deep dark secret\".encode()\n",
    "key = Fernet.generate_key() # Store this key or get if you already have it\n",
    "f = Fernet(key)\n",
    "encrypted = f.encrypt(message)\n",
    "decrypted = f.decrypt(encrypted)\n",
    "message == decrypted"
   ]
  },
  {
   "cell_type": "code",
   "execution_count": 13,
   "metadata": {},
   "outputs": [
    {
     "name": "stdout",
     "output_type": "stream",
     "text": [
      "The cipher text is: .rehpic esrever snialpxe margorp sihT\n"
     ]
    }
   ],
   "source": [
    "message = \"This program explains reverse cipher.\"\n",
    "translated = \"\" #cipher text is stored in this variable\n",
    "i = len(message) - 1\n",
    "\n",
    "while i >= 0:\n",
    "    translated += message[i]\n",
    "    i = i - 1\n",
    "print(\"The cipher text is:\", translated)"
   ]
  }
 ],
 "metadata": {
  "kernelspec": {
   "display_name": "Python 3",
   "language": "python",
   "name": "python3"
  },
  "language_info": {
   "codemirror_mode": {
    "name": "ipython",
    "version": 3
   },
   "file_extension": ".py",
   "mimetype": "text/x-python",
   "name": "python",
   "nbconvert_exporter": "python",
   "pygments_lexer": "ipython3",
   "version": "3.7.4"
  }
 },
 "nbformat": 4,
 "nbformat_minor": 2
}
