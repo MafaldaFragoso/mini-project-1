{
 "cells": [
  {
   "cell_type": "code",
   "execution_count": 1,
   "metadata": {},
   "outputs": [],
   "source": [
    "options = [\"encrypt\", \"decrypt\"]\n",
    "\n",
    "def ask_user():\n",
    "    #This function asks if the user wants to encrypt or decrypt\n",
    "    while True:\n",
    "        decision = input(\"Do you want to encrypt or decrypt? \")\n",
    "        if decision in options:\n",
    "            return (decision)\n",
    "        else:\n",
    "            print (\"Invalid choice\")"
   ]
  },
  {
   "cell_type": "code",
   "execution_count": 2,
   "metadata": {},
   "outputs": [],
   "source": [
    "play_again = [\"yes\", \"no\"]\n",
    "\n",
    "def ask_play_again():\n",
    "    #This function asks if the user wants to play again\n",
    "    while True:\n",
    "        decision = input(\"Do you want to play again? \")\n",
    "        if decision in play_again:\n",
    "            return (decision)\n",
    "        else:\n",
    "            print (\"Invalid choice\")"
   ]
  },
  {
   "cell_type": "code",
   "execution_count": 3,
   "metadata": {},
   "outputs": [],
   "source": [
    "def get_message(option):\n",
    "    #This function asks what is the message that the user wants to encrypt or decrypt\n",
    "           \n",
    "    if option == \"encrypt\":\n",
    "        text = input (\"Enter message to encrypt: \")\n",
    "    else:\n",
    "        text = input (\"Enter message to decrypt: \")\n",
    "    return (text)"
   ]
  },
  {
   "cell_type": "code",
   "execution_count": 4,
   "metadata": {},
   "outputs": [],
   "source": [
    "def ask_shift_number():\n",
    "    #This function asks how many characters the user wants to shift\n",
    "           \n",
    "    while True:\n",
    "        s = int(input(\"Enter shift number: \"))\n",
    "        if s >=0:\n",
    "            return (s)\n",
    "        else:\n",
    "            print (\"Invalid choice\")"
   ]
  },
  {
   "cell_type": "code",
   "execution_count": 5,
   "metadata": {},
   "outputs": [],
   "source": [
    "def encrypt(text, shift):\n",
    "    #This function encrypts the message using the ASCII printable characters\n",
    "    \n",
    "    cipher = \"\"\n",
    "    for char in text: \n",
    "        if char == \" \":\n",
    "            cipher += char\n",
    "        elif (ord(char) >= 33 and ord(char) <= 126):\n",
    "            cipher += chr((ord(char) + shift - 33) % 94 + 33) \n",
    "        else:\n",
    "            cipher += \" \"\n",
    "    \n",
    "    return cipher\n",
    "\n",
    "# ASCII printable characters goes from number 32 to 126\n",
    "# The chr() method returns a string representing a character whose Unicode code point is an integer: chr(65) = A\n",
    "# The ord() method, given a string of length one, return an integer representing the Unicode code point of the character: ord(\"A\"):65\n",
    "# % returns the decimal part (remainder) of the quotient. Note: the function works without this% » I used to be easier to find the relative position"
   ]
  },
  {
   "cell_type": "code",
   "execution_count": 6,
   "metadata": {},
   "outputs": [],
   "source": [
    "def decrypt(text, shift):\n",
    "    #This function decrypts the message using the ASCII printable characters\n",
    "    \n",
    "    cipher = \"\"\n",
    "    for char in text: \n",
    "        if char == \" \":\n",
    "            cipher += char\n",
    "        elif (ord(char) >= 33 and ord(char) <= 126):\n",
    "            cipher += chr((ord(char) - shift - 33) % 94 + 33) \n",
    "        else:\n",
    "            cipher += \" \"\n",
    "    \n",
    "    return cipher\n",
    "\n",
    "# ASCII printable characters goes from number 32 to 126\n",
    "# The chr() method returns a string representing a character whose Unicode code point is an integer: chr(65) = A\n",
    "# The ord() method, given a string of length one, return an integer representing the Unicode code point of the character: ord(\"A\"):65\n",
    "# % returns the decimal part (remainder) of the quotient. Note: the function works without this% » I used to be easier to find the relative position"
   ]
  },
  {
   "cell_type": "code",
   "execution_count": 7,
   "metadata": {},
   "outputs": [
    {
     "name": "stdout",
     "output_type": "stream",
     "text": [
      "Do you want to encrypt or decrypt? xx\n",
      "Invalid choice\n",
      "Do you want to encrypt or decrypt? encrypt\n",
      "Enter message to encrypt: Hello! My name is Mafalda.\n",
      "Enter shift number: 10\n",
      "Message after encryption:  Rovvy+ W% xkwo s} Wkpkvnk8\n",
      "Do you want to play again? yes\n",
      "Do you want to encrypt or decrypt? decrypt\n",
      "Enter message to decrypt: Rovvy+ W% xkwo s} Wkpkvnk8\n",
      "Enter shift number: 10\n",
      "Message after decryption:  Hello! My name is Mafalda.\n",
      "Do you want to play again? no\n",
      "Bye bye :) \n"
     ]
    }
   ],
   "source": [
    "# Main program\n",
    "\n",
    "while True:\n",
    "    option = ask_user()\n",
    "    text = get_message(option)\n",
    "    shift = ask_shift_number()\n",
    "\n",
    "    if option == \"encrypt\":\n",
    "        encrypted_text = encrypt(text, shift)\n",
    "        print(\"Message after encryption: \", encrypted_text)\n",
    "    else:\n",
    "        clear_text = decrypt(text, shift)\n",
    "        print(\"Message after decryption: \", clear_text)\n",
    "    \n",
    "    if ask_play_again() == \"no\":\n",
    "        print(\"Bye bye :) \")\n",
    "        break\n"
   ]
  }
 ],
 "metadata": {
  "kernelspec": {
   "display_name": "Python 3",
   "language": "python",
   "name": "python3"
  },
  "language_info": {
   "codemirror_mode": {
    "name": "ipython",
    "version": 3
   },
   "file_extension": ".py",
   "mimetype": "text/x-python",
   "name": "python",
   "nbconvert_exporter": "python",
   "pygments_lexer": "ipython3",
   "version": "3.7.4"
  }
 },
 "nbformat": 4,
 "nbformat_minor": 2
}
